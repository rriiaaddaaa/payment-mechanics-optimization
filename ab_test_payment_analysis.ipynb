{
 "cells": [
  {
   "metadata": {},
   "cell_type": "markdown",
   "source": [
    "## A/B–тестирование\n",
    "В ходе тестирования одной гипотезы целевой группе была предложена новая механика оплаты услуг на сайте, у контрольной группы оставалась базовая механика. Необходимо проанализировать итоги эксперимента и сделать вывод, стоит ли запускать новую механику оплаты на всех пользователей."
   ],
   "id": "f17f6e6d592bb110"
  },
  {
   "metadata": {},
   "cell_type": "markdown",
   "source": "### Выгрузка данных с Яндекс.Диска",
   "id": "fc2f3d6b536cb19b"
  },
  {
   "metadata": {
    "ExecuteTime": {
     "end_time": "2024-08-21T11:20:38.734071Z",
     "start_time": "2024-08-21T11:20:38.602308Z"
    }
   },
   "cell_type": "code",
   "source": [
    "import requests\n",
    "import pandas as pd\n",
    "import seaborn as sns\n",
    "import matplotlib.pyplot as plt\n",
    "from urllib.parse import urlencode"
   ],
   "id": "48dcc9f7a54aa3fb",
   "outputs": [],
   "execution_count": 1
  },
  {
   "metadata": {
    "ExecuteTime": {
     "end_time": "2024-08-21T11:20:38.749871Z",
     "start_time": "2024-08-21T11:20:38.734071Z"
    }
   },
   "cell_type": "code",
   "source": [
    "# Базовый URL для публичного API Яндекс.Диска, который используется для получения ссылки на скачивание файла\n",
    "base_url = 'https://cloud-api.yandex.net/v1/disk/public/resources/download?'\n",
    "\n",
    "# Функция для загрузки данных из CSV-файла, расположенного по публичной ссылке на Яндекс.Диске\n",
    "def upload_df(link, sep=','):\n",
    "    url = base_url + urlencode(dict(public_key=link)) # Формирование полного URL запроса, добавляя публичный ключ в параметры запроса\n",
    "    response = requests.get(url) # Выполнение GET-запрос к сформированному URL для получения информации о файле\n",
    "    download_link = response.json()['href']  # Извлечение ссылки для скачивания файла из ответа, который вернул API Яндекс.Диска\n",
    "    return pd.read_csv(download_link, sep=sep) # Чтение CSV-файла по ссылке для скачивания и возвращение его в виде DataFrame"
   ],
   "id": "f4df800bcfd702c8",
   "outputs": [],
   "execution_count": 2
  },
  {
   "metadata": {
    "ExecuteTime": {
     "end_time": "2024-08-21T11:20:41.997555Z",
     "start_time": "2024-08-21T11:20:38.749871Z"
    }
   },
   "cell_type": "code",
   "source": [
    "groups = upload_df('https://disk.yandex.ru/d/cM6g26ucVBlc-A', ';')\n",
    "checks = upload_df('https://disk.yandex.ru/d/pld_TzJ-N80cHw', ';')\n",
    "active_studs = upload_df('https://disk.yandex.ru/d/YFwfeE_HjcWM8g')"
   ],
   "id": "bd97714c1ecaf36e",
   "outputs": [],
   "execution_count": 3
  },
  {
   "metadata": {},
   "cell_type": "markdown",
   "source": [
    "### Информация о предоставленных данных\n",
    "Предоставлено 4 файла с информацией о пользователях(их принадлежности к группе), активности в дни проведения эксперимента и стоимости оплаты услуг на сайте."
   ],
   "id": "75041466b50169d4"
  },
  {
   "metadata": {
    "ExecuteTime": {
     "end_time": "2024-08-21T11:20:42.035837Z",
     "start_time": "2024-08-21T11:20:41.997555Z"
    }
   },
   "cell_type": "code",
   "source": "groups",
   "id": "3ded697e3bab890",
   "outputs": [
    {
     "data": {
      "text/plain": [
       "            id grp\n",
       "0         1489   B\n",
       "1         1627   A\n",
       "2         1768   B\n",
       "3         1783   B\n",
       "4         1794   A\n",
       "...        ...  ..\n",
       "74479  5692459   B\n",
       "74480  5692572   B\n",
       "74481  5692865   B\n",
       "74482  5693667   B\n",
       "74483  5694419   B\n",
       "\n",
       "[74484 rows x 2 columns]"
      ],
      "text/html": [
       "<div>\n",
       "<style scoped>\n",
       "    .dataframe tbody tr th:only-of-type {\n",
       "        vertical-align: middle;\n",
       "    }\n",
       "\n",
       "    .dataframe tbody tr th {\n",
       "        vertical-align: top;\n",
       "    }\n",
       "\n",
       "    .dataframe thead th {\n",
       "        text-align: right;\n",
       "    }\n",
       "</style>\n",
       "<table border=\"1\" class=\"dataframe\">\n",
       "  <thead>\n",
       "    <tr style=\"text-align: right;\">\n",
       "      <th></th>\n",
       "      <th>id</th>\n",
       "      <th>grp</th>\n",
       "    </tr>\n",
       "  </thead>\n",
       "  <tbody>\n",
       "    <tr>\n",
       "      <th>0</th>\n",
       "      <td>1489</td>\n",
       "      <td>B</td>\n",
       "    </tr>\n",
       "    <tr>\n",
       "      <th>1</th>\n",
       "      <td>1627</td>\n",
       "      <td>A</td>\n",
       "    </tr>\n",
       "    <tr>\n",
       "      <th>2</th>\n",
       "      <td>1768</td>\n",
       "      <td>B</td>\n",
       "    </tr>\n",
       "    <tr>\n",
       "      <th>3</th>\n",
       "      <td>1783</td>\n",
       "      <td>B</td>\n",
       "    </tr>\n",
       "    <tr>\n",
       "      <th>4</th>\n",
       "      <td>1794</td>\n",
       "      <td>A</td>\n",
       "    </tr>\n",
       "    <tr>\n",
       "      <th>...</th>\n",
       "      <td>...</td>\n",
       "      <td>...</td>\n",
       "    </tr>\n",
       "    <tr>\n",
       "      <th>74479</th>\n",
       "      <td>5692459</td>\n",
       "      <td>B</td>\n",
       "    </tr>\n",
       "    <tr>\n",
       "      <th>74480</th>\n",
       "      <td>5692572</td>\n",
       "      <td>B</td>\n",
       "    </tr>\n",
       "    <tr>\n",
       "      <th>74481</th>\n",
       "      <td>5692865</td>\n",
       "      <td>B</td>\n",
       "    </tr>\n",
       "    <tr>\n",
       "      <th>74482</th>\n",
       "      <td>5693667</td>\n",
       "      <td>B</td>\n",
       "    </tr>\n",
       "    <tr>\n",
       "      <th>74483</th>\n",
       "      <td>5694419</td>\n",
       "      <td>B</td>\n",
       "    </tr>\n",
       "  </tbody>\n",
       "</table>\n",
       "<p>74484 rows × 2 columns</p>\n",
       "</div>"
      ]
     },
     "execution_count": 4,
     "metadata": {},
     "output_type": "execute_result"
    }
   ],
   "execution_count": 4
  },
  {
   "metadata": {},
   "cell_type": "markdown",
   "source": "Файл с информацией о принадлежности пользователя к контрольной или целевой группе ",
   "id": "7c9986a7674a1b10"
  },
  {
   "metadata": {
    "ExecuteTime": {
     "end_time": "2024-08-21T11:20:42.067136Z",
     "start_time": "2024-08-21T11:20:42.035837Z"
    }
   },
   "cell_type": "code",
   "source": "groups.info()",
   "id": "8e71850377546a1c",
   "outputs": [
    {
     "name": "stdout",
     "output_type": "stream",
     "text": [
      "<class 'pandas.core.frame.DataFrame'>\n",
      "RangeIndex: 74484 entries, 0 to 74483\n",
      "Data columns (total 2 columns):\n",
      " #   Column  Non-Null Count  Dtype \n",
      "---  ------  --------------  ----- \n",
      " 0   id      74484 non-null  int64 \n",
      " 1   grp     74484 non-null  object\n",
      "dtypes: int64(1), object(1)\n",
      "memory usage: 1.1+ MB\n"
     ]
    }
   ],
   "execution_count": 5
  },
  {
   "metadata": {},
   "cell_type": "markdown",
   "source": "В файле нет пропущенных значений.",
   "id": "342466156d921122"
  },
  {
   "metadata": {
    "ExecuteTime": {
     "end_time": "2024-08-21T11:20:42.098385Z",
     "start_time": "2024-08-21T11:20:42.067136Z"
    }
   },
   "cell_type": "code",
   "source": "groups.duplicated().sum()",
   "id": "e847c1f60ec88e17",
   "outputs": [
    {
     "data": {
      "text/plain": [
       "0"
      ]
     },
     "execution_count": 6,
     "metadata": {},
     "output_type": "execute_result"
    }
   ],
   "execution_count": 6
  },
  {
   "metadata": {},
   "cell_type": "markdown",
   "source": "В файле не обнаружены дубликаты.",
   "id": "7a137d46bc9c9a6"
  },
  {
   "metadata": {
    "ExecuteTime": {
     "end_time": "2024-08-21T11:20:42.489660Z",
     "start_time": "2024-08-21T11:20:42.098385Z"
    }
   },
   "cell_type": "code",
   "source": [
    "sns.barplot(data=groups['grp'].value_counts())\n",
    "plt.title('Distribution of groups')\n",
    "plt.xlabel('Groups')\n",
    "plt.show()"
   ],
   "id": "82be022cfbf88e35",
   "outputs": [
    {
     "data": {
      "text/plain": [
       "<Figure size 640x480 with 1 Axes>"
      ],
      "image/png": "[encoded data removed]"
     },
     "metadata": {},
     "output_type": "display_data"
    }
   ],
   "execution_count": 7
  },
  {
   "metadata": {},
   "cell_type": "markdown",
   "source": "Распределение количества пользователей по группам. Целевая группа(группа B) преобладает по количеству пользователей.",
   "id": "cb4a733e72e166b2"
  },
  {
   "metadata": {
    "ExecuteTime": {
     "end_time": "2024-08-21T11:20:42.512982Z",
     "start_time": "2024-08-21T11:20:42.489660Z"
    }
   },
   "cell_type": "code",
   "source": "checks",
   "id": "b24a179df0a4ab96",
   "outputs": [
    {
     "data": {
      "text/plain": [
       "     student_id     rev\n",
       "0          1627   990.0\n",
       "1          3185   690.0\n",
       "2         25973   690.0\n",
       "3         26280   690.0\n",
       "4        100300   990.0\n",
       "..          ...     ...\n",
       "536     5645737  1900.0\n",
       "537     5651566  1900.0\n",
       "538     5662322  1900.0\n",
       "539     5681918  1900.0\n",
       "540     5740903  1900.0\n",
       "\n",
       "[541 rows x 2 columns]"
      ],
      "text/html": [
       "<div>\n",
       "<style scoped>\n",
       "    .dataframe tbody tr th:only-of-type {\n",
       "        vertical-align: middle;\n",
       "    }\n",
       "\n",
       "    .dataframe tbody tr th {\n",
       "        vertical-align: top;\n",
       "    }\n",
       "\n",
       "    .dataframe thead th {\n",
       "        text-align: right;\n",
       "    }\n",
       "</style>\n",
       "<table border=\"1\" class=\"dataframe\">\n",
       "  <thead>\n",
       "    <tr style=\"text-align: right;\">\n",
       "      <th></th>\n",
       "      <th>student_id</th>\n",
       "      <th>rev</th>\n",
       "    </tr>\n",
       "  </thead>\n",
       "  <tbody>\n",
       "    <tr>\n",
       "      <th>0</th>\n",
       "      <td>1627</td>\n",
       "      <td>990.0</td>\n",
       "    </tr>\n",
       "    <tr>\n",
       "      <th>1</th>\n",
       "      <td>3185</td>\n",
       "      <td>690.0</td>\n",
       "    </tr>\n",
       "    <tr>\n",
       "      <th>2</th>\n",
       "      <td>25973</td>\n",
       "      <td>690.0</td>\n",
       "    </tr>\n",
       "    <tr>\n",
       "      <th>3</th>\n",
       "      <td>26280</td>\n",
       "      <td>690.0</td>\n",
       "    </tr>\n",
       "    <tr>\n",
       "      <th>4</th>\n",
       "      <td>100300</td>\n",
       "      <td>990.0</td>\n",
       "    </tr>\n",
       "    <tr>\n",
       "      <th>...</th>\n",
       "      <td>...</td>\n",
       "      <td>...</td>\n",
       "    </tr>\n",
       "    <tr>\n",
       "      <th>536</th>\n",
       "      <td>5645737</td>\n",
       "      <td>1900.0</td>\n",
       "    </tr>\n",
       "    <tr>\n",
       "      <th>537</th>\n",
       "      <td>5651566</td>\n",
       "      <td>1900.0</td>\n",
       "    </tr>\n",
       "    <tr>\n",
       "      <th>538</th>\n",
       "      <td>5662322</td>\n",
       "      <td>1900.0</td>\n",
       "    </tr>\n",
       "    <tr>\n",
       "      <th>539</th>\n",
       "      <td>5681918</td>\n",
       "      <td>1900.0</td>\n",
       "    </tr>\n",
       "    <tr>\n",
       "      <th>540</th>\n",
       "      <td>5740903</td>\n",
       "      <td>1900.0</td>\n",
       "    </tr>\n",
       "  </tbody>\n",
       "</table>\n",
       "<p>541 rows × 2 columns</p>\n",
       "</div>"
      ]
     },
     "execution_count": 8,
     "metadata": {},
     "output_type": "execute_result"
    }
   ],
   "execution_count": 8
  },
  {
   "metadata": {},
   "cell_type": "markdown",
   "source": "Файл с информацией об оплатах пользователей в дни проведения эксперимента.",
   "id": "18b942b834b0a2b"
  },
  {
   "metadata": {
    "ExecuteTime": {
     "end_time": "2024-08-21T11:20:42.535394Z",
     "start_time": "2024-08-21T11:20:42.512982Z"
    }
   },
   "cell_type": "code",
   "source": "checks.info()",
   "id": "2faaf466067108b1",
   "outputs": [
    {
     "name": "stdout",
     "output_type": "stream",
     "text": [
      "<class 'pandas.core.frame.DataFrame'>\n",
      "RangeIndex: 541 entries, 0 to 540\n",
      "Data columns (total 2 columns):\n",
      " #   Column      Non-Null Count  Dtype  \n",
      "---  ------      --------------  -----  \n",
      " 0   student_id  541 non-null    int64  \n",
      " 1   rev         541 non-null    float64\n",
      "dtypes: float64(1), int64(1)\n",
      "memory usage: 8.6 KB\n"
     ]
    }
   ],
   "execution_count": 9
  },
  {
   "metadata": {
    "ExecuteTime": {
     "end_time": "2024-08-21T11:20:42.559467Z",
     "start_time": "2024-08-21T11:20:42.535394Z"
    }
   },
   "cell_type": "code",
   "source": "checks.duplicated().sum()",
   "id": "8e628159755e5612",
   "outputs": [
    {
     "data": {
      "text/plain": [
       "0"
      ]
     },
     "execution_count": 10,
     "metadata": {},
     "output_type": "execute_result"
    }
   ],
   "execution_count": 10
  },
  {
   "metadata": {},
   "cell_type": "markdown",
   "source": "В файле с информацией об оплатах пользователей не обнаружены дубликаты и пропущенные значения.",
   "id": "f364a4f53cfd6d5a"
  },
  {
   "metadata": {
    "ExecuteTime": {
     "end_time": "2024-08-21T11:20:42.575076Z",
     "start_time": "2024-08-21T11:20:42.559467Z"
    }
   },
   "cell_type": "code",
   "source": "checks.rename(columns={'student_id': 'id'}, inplace=True) # Переименование столбца \"student_id\" на \"id\"",
   "id": "4f81c24057ed5319",
   "outputs": [],
   "execution_count": 11
  },
  {
   "metadata": {
    "ExecuteTime": {
     "end_time": "2024-08-21T11:20:42.590712Z",
     "start_time": "2024-08-21T11:20:42.575076Z"
    }
   },
   "cell_type": "code",
   "source": "active_studs",
   "id": "6a8ef68db176145f",
   "outputs": [
    {
     "data": {
      "text/plain": [
       "      student_id\n",
       "0         581585\n",
       "1        5723133\n",
       "2        3276743\n",
       "3        4238589\n",
       "4        4475369\n",
       "...          ...\n",
       "8336     1794344\n",
       "8337      296883\n",
       "8338     3598448\n",
       "8339     3610547\n",
       "8340      205705\n",
       "\n",
       "[8341 rows x 1 columns]"
      ],
      "text/html": [
       "<div>\n",
       "<style scoped>\n",
       "    .dataframe tbody tr th:only-of-type {\n",
       "        vertical-align: middle;\n",
       "    }\n",
       "\n",
       "    .dataframe tbody tr th {\n",
       "        vertical-align: top;\n",
       "    }\n",
       "\n",
       "    .dataframe thead th {\n",
       "        text-align: right;\n",
       "    }\n",
       "</style>\n",
       "<table border=\"1\" class=\"dataframe\">\n",
       "  <thead>\n",
       "    <tr style=\"text-align: right;\">\n",
       "      <th></th>\n",
       "      <th>student_id</th>\n",
       "    </tr>\n",
       "  </thead>\n",
       "  <tbody>\n",
       "    <tr>\n",
       "      <th>0</th>\n",
       "      <td>581585</td>\n",
       "    </tr>\n",
       "    <tr>\n",
       "      <th>1</th>\n",
       "      <td>5723133</td>\n",
       "    </tr>\n",
       "    <tr>\n",
       "      <th>2</th>\n",
       "      <td>3276743</td>\n",
       "    </tr>\n",
       "    <tr>\n",
       "      <th>3</th>\n",
       "      <td>4238589</td>\n",
       "    </tr>\n",
       "    <tr>\n",
       "      <th>4</th>\n",
       "      <td>4475369</td>\n",
       "    </tr>\n",
       "    <tr>\n",
       "      <th>...</th>\n",
       "      <td>...</td>\n",
       "    </tr>\n",
       "    <tr>\n",
       "      <th>8336</th>\n",
       "      <td>1794344</td>\n",
       "    </tr>\n",
       "    <tr>\n",
       "      <th>8337</th>\n",
       "      <td>296883</td>\n",
       "    </tr>\n",
       "    <tr>\n",
       "      <th>8338</th>\n",
       "      <td>3598448</td>\n",
       "    </tr>\n",
       "    <tr>\n",
       "      <th>8339</th>\n",
       "      <td>3610547</td>\n",
       "    </tr>\n",
       "    <tr>\n",
       "      <th>8340</th>\n",
       "      <td>205705</td>\n",
       "    </tr>\n",
       "  </tbody>\n",
       "</table>\n",
       "<p>8341 rows × 1 columns</p>\n",
       "</div>"
      ]
     },
     "execution_count": 12,
     "metadata": {},
     "output_type": "execute_result"
    }
   ],
   "execution_count": 12
  },
  {
   "metadata": {},
   "cell_type": "markdown",
   "source": "Файл с информацией об активности пользователей. Пользователь считается активным, если зашел на платформу в дни проведения эксперимента.",
   "id": "c058e503e2fbddaa"
  },
  {
   "metadata": {
    "ExecuteTime": {
     "end_time": "2024-08-21T11:20:42.621969Z",
     "start_time": "2024-08-21T11:20:42.590712Z"
    }
   },
   "cell_type": "code",
   "source": "active_studs.info()",
   "id": "943220ebf9e8351b",
   "outputs": [
    {
     "name": "stdout",
     "output_type": "stream",
     "text": [
      "<class 'pandas.core.frame.DataFrame'>\n",
      "RangeIndex: 8341 entries, 0 to 8340\n",
      "Data columns (total 1 columns):\n",
      " #   Column      Non-Null Count  Dtype\n",
      "---  ------      --------------  -----\n",
      " 0   student_id  8341 non-null   int64\n",
      "dtypes: int64(1)\n",
      "memory usage: 65.3 KB\n"
     ]
    }
   ],
   "execution_count": 13
  },
  {
   "metadata": {
    "ExecuteTime": {
     "end_time": "2024-08-21T11:20:42.637594Z",
     "start_time": "2024-08-21T11:20:42.621969Z"
    }
   },
   "cell_type": "code",
   "source": "active_studs.duplicated().sum()",
   "id": "200c8ac5535605c",
   "outputs": [
    {
     "data": {
      "text/plain": [
       "0"
      ]
     },
     "execution_count": 14,
     "metadata": {},
     "output_type": "execute_result"
    }
   ],
   "execution_count": 14
  },
  {
   "metadata": {},
   "cell_type": "markdown",
   "source": "В файле с информацией об активных пользователях не обнаружены дубликаты и пропущенные значения.",
   "id": "2b7f22212db850f8"
  },
  {
   "metadata": {
    "ExecuteTime": {
     "end_time": "2024-08-21T11:20:42.653199Z",
     "start_time": "2024-08-21T11:20:42.637594Z"
    }
   },
   "cell_type": "code",
   "source": "active_studs.rename(columns={'student_id': 'id'}, inplace=True) # Переименование столбца \"student_id\" на \"id\"",
   "id": "11358ec5885cf336",
   "outputs": [],
   "execution_count": 15
  },
  {
   "metadata": {},
   "cell_type": "markdown",
   "source": "",
   "id": "7c9fe306aae537c2"
  },
  {
   "metadata": {},
   "cell_type": "markdown",
   "source": "### Объединение таблиц и создание новых признаков",
   "id": "1e49d8148826ab24"
  },
  {
   "metadata": {
    "ExecuteTime": {
     "end_time": "2024-08-21T12:47:30.281436Z",
     "start_time": "2024-08-21T12:47:30.265573Z"
    }
   },
   "cell_type": "code",
   "source": "data = groups.merge(checks, on='id', how='left') # Присоединение таблицы об оплатах к таблице с группами пользователей",
   "id": "84d10bfab2083efc",
   "outputs": [],
   "execution_count": 84
  },
  {
   "metadata": {
    "ExecuteTime": {
     "end_time": "2024-08-21T12:47:31.192834Z",
     "start_time": "2024-08-21T12:47:31.161260Z"
    }
   },
   "cell_type": "code",
   "source": "data",
   "id": "d9385fab774cfe86",
   "outputs": [
    {
     "data": {
      "text/plain": [
       "            id grp    rev\n",
       "0         1489   B    NaN\n",
       "1         1627   A  990.0\n",
       "2         1768   B    NaN\n",
       "3         1783   B    NaN\n",
       "4         1794   A    NaN\n",
       "...        ...  ..    ...\n",
       "74479  5692459   B    NaN\n",
       "74480  5692572   B    NaN\n",
       "74481  5692865   B    NaN\n",
       "74482  5693667   B    NaN\n",
       "74483  5694419   B    NaN\n",
       "\n",
       "[74484 rows x 3 columns]"
      ],
      "text/html": [
       "<div>\n",
       "<style scoped>\n",
       "    .dataframe tbody tr th:only-of-type {\n",
       "        vertical-align: middle;\n",
       "    }\n",
       "\n",
       "    .dataframe tbody tr th {\n",
       "        vertical-align: top;\n",
       "    }\n",
       "\n",
       "    .dataframe thead th {\n",
       "        text-align: right;\n",
       "    }\n",
       "</style>\n",
       "<table border=\"1\" class=\"dataframe\">\n",
       "  <thead>\n",
       "    <tr style=\"text-align: right;\">\n",
       "      <th></th>\n",
       "      <th>id</th>\n",
       "      <th>grp</th>\n",
       "      <th>rev</th>\n",
       "    </tr>\n",
       "  </thead>\n",
       "  <tbody>\n",
       "    <tr>\n",
       "      <th>0</th>\n",
       "      <td>1489</td>\n",
       "      <td>B</td>\n",
       "      <td>NaN</td>\n",
       "    </tr>\n",
       "    <tr>\n",
       "      <th>1</th>\n",
       "      <td>1627</td>\n",
       "      <td>A</td>\n",
       "      <td>990.0</td>\n",
       "    </tr>\n",
       "    <tr>\n",
       "      <th>2</th>\n",
       "      <td>1768</td>\n",
       "      <td>B</td>\n",
       "      <td>NaN</td>\n",
       "    </tr>\n",
       "    <tr>\n",
       "      <th>3</th>\n",
       "      <td>1783</td>\n",
       "      <td>B</td>\n",
       "      <td>NaN</td>\n",
       "    </tr>\n",
       "    <tr>\n",
       "      <th>4</th>\n",
       "      <td>1794</td>\n",
       "      <td>A</td>\n",
       "      <td>NaN</td>\n",
       "    </tr>\n",
       "    <tr>\n",
       "      <th>...</th>\n",
       "      <td>...</td>\n",
       "      <td>...</td>\n",
       "      <td>...</td>\n",
       "    </tr>\n",
       "    <tr>\n",
       "      <th>74479</th>\n",
       "      <td>5692459</td>\n",
       "      <td>B</td>\n",
       "      <td>NaN</td>\n",
       "    </tr>\n",
       "    <tr>\n",
       "      <th>74480</th>\n",
       "      <td>5692572</td>\n",
       "      <td>B</td>\n",
       "      <td>NaN</td>\n",
       "    </tr>\n",
       "    <tr>\n",
       "      <th>74481</th>\n",
       "      <td>5692865</td>\n",
       "      <td>B</td>\n",
       "      <td>NaN</td>\n",
       "    </tr>\n",
       "    <tr>\n",
       "      <th>74482</th>\n",
       "      <td>5693667</td>\n",
       "      <td>B</td>\n",
       "      <td>NaN</td>\n",
       "    </tr>\n",
       "    <tr>\n",
       "      <th>74483</th>\n",
       "      <td>5694419</td>\n",
       "      <td>B</td>\n",
       "      <td>NaN</td>\n",
       "    </tr>\n",
       "  </tbody>\n",
       "</table>\n",
       "<p>74484 rows × 3 columns</p>\n",
       "</div>"
      ]
     },
     "execution_count": 85,
     "metadata": {},
     "output_type": "execute_result"
    }
   ],
   "execution_count": 85
  },
  {
   "metadata": {
    "ExecuteTime": {
     "end_time": "2024-08-21T12:47:50.695791Z",
     "start_time": "2024-08-21T12:47:50.664371Z"
    }
   },
   "cell_type": "code",
   "source": "data.fillna(-1, inplace=True) # Заполнение пропусков в признаке с суммой оплаты",
   "id": "ecd9a51bace23416",
   "outputs": [],
   "execution_count": 87
  },
  {
   "metadata": {
    "ExecuteTime": {
     "end_time": "2024-08-21T12:47:51.287485Z",
     "start_time": "2024-08-21T12:47:51.240522Z"
    }
   },
   "cell_type": "code",
   "source": "data['is_paid'] = data['rev'].apply(lambda x: 1 if x > 0 else 0) # Добавление нового признака о факте оплаты",
   "id": "7a08ec6bae85d0f1",
   "outputs": [],
   "execution_count": 88
  },
  {
   "metadata": {
    "ExecuteTime": {
     "end_time": "2024-08-21T12:47:51.795371Z",
     "start_time": "2024-08-21T12:47:51.748387Z"
    }
   },
   "cell_type": "code",
   "source": "data['is_active'] = data['id'].isin(active_studs['id']).apply(lambda x: 1 if x else 0) # Добавление нового признака об активности пользователя в дни проведения эксперимента",
   "id": "1549cc781df49926",
   "outputs": [],
   "execution_count": 89
  },
  {
   "metadata": {
    "ExecuteTime": {
     "end_time": "2024-08-21T12:47:52.537831Z",
     "start_time": "2024-08-21T12:47:52.507084Z"
    }
   },
   "cell_type": "code",
   "source": "data.isna().sum()",
   "id": "b260876a4a131930",
   "outputs": [
    {
     "data": {
      "text/plain": [
       "id           0\n",
       "grp          0\n",
       "rev          0\n",
       "is_paid      0\n",
       "is_active    0\n",
       "dtype: int64"
      ]
     },
     "execution_count": 90,
     "metadata": {},
     "output_type": "execute_result"
    }
   ],
   "execution_count": 90
  },
  {
   "metadata": {
    "ExecuteTime": {
     "end_time": "2024-08-21T12:47:53.396093Z",
     "start_time": "2024-08-21T12:47:53.364995Z"
    }
   },
   "cell_type": "code",
   "source": "data.duplicated().sum()",
   "id": "eaab590b305d340d",
   "outputs": [
    {
     "data": {
      "text/plain": [
       "0"
      ]
     },
     "execution_count": 91,
     "metadata": {},
     "output_type": "execute_result"
    }
   ],
   "execution_count": 91
  },
  {
   "metadata": {},
   "cell_type": "markdown",
   "source": "После присоединения таблиц в данных не обнаружено пропусков и дубликатов.",
   "id": "5c8be30824b4376e"
  },
  {
   "metadata": {
    "ExecuteTime": {
     "end_time": "2024-08-21T12:47:55.249897Z",
     "start_time": "2024-08-21T12:47:55.234131Z"
    }
   },
   "cell_type": "code",
   "source": "data",
   "id": "1af68180ef62686f",
   "outputs": [
    {
     "data": {
      "text/plain": [
       "            id grp    rev  is_paid  is_active\n",
       "0         1489   B   -1.0        0          0\n",
       "1         1627   A  990.0        1          1\n",
       "2         1768   B   -1.0        0          0\n",
       "3         1783   B   -1.0        0          0\n",
       "4         1794   A   -1.0        0          0\n",
       "...        ...  ..    ...      ...        ...\n",
       "74479  5692459   B   -1.0        0          0\n",
       "74480  5692572   B   -1.0        0          0\n",
       "74481  5692865   B   -1.0        0          0\n",
       "74482  5693667   B   -1.0        0          0\n",
       "74483  5694419   B   -1.0        0          0\n",
       "\n",
       "[74484 rows x 5 columns]"
      ],
      "text/html": [
       "<div>\n",
       "<style scoped>\n",
       "    .dataframe tbody tr th:only-of-type {\n",
       "        vertical-align: middle;\n",
       "    }\n",
       "\n",
       "    .dataframe tbody tr th {\n",
       "        vertical-align: top;\n",
       "    }\n",
       "\n",
       "    .dataframe thead th {\n",
       "        text-align: right;\n",
       "    }\n",
       "</style>\n",
       "<table border=\"1\" class=\"dataframe\">\n",
       "  <thead>\n",
       "    <tr style=\"text-align: right;\">\n",
       "      <th></th>\n",
       "      <th>id</th>\n",
       "      <th>grp</th>\n",
       "      <th>rev</th>\n",
       "      <th>is_paid</th>\n",
       "      <th>is_active</th>\n",
       "    </tr>\n",
       "  </thead>\n",
       "  <tbody>\n",
       "    <tr>\n",
       "      <th>0</th>\n",
       "      <td>1489</td>\n",
       "      <td>B</td>\n",
       "      <td>-1.0</td>\n",
       "      <td>0</td>\n",
       "      <td>0</td>\n",
       "    </tr>\n",
       "    <tr>\n",
       "      <th>1</th>\n",
       "      <td>1627</td>\n",
       "      <td>A</td>\n",
       "      <td>990.0</td>\n",
       "      <td>1</td>\n",
       "      <td>1</td>\n",
       "    </tr>\n",
       "    <tr>\n",
       "      <th>2</th>\n",
       "      <td>1768</td>\n",
       "      <td>B</td>\n",
       "      <td>-1.0</td>\n",
       "      <td>0</td>\n",
       "      <td>0</td>\n",
       "    </tr>\n",
       "    <tr>\n",
       "      <th>3</th>\n",
       "      <td>1783</td>\n",
       "      <td>B</td>\n",
       "      <td>-1.0</td>\n",
       "      <td>0</td>\n",
       "      <td>0</td>\n",
       "    </tr>\n",
       "    <tr>\n",
       "      <th>4</th>\n",
       "      <td>1794</td>\n",
       "      <td>A</td>\n",
       "      <td>-1.0</td>\n",
       "      <td>0</td>\n",
       "      <td>0</td>\n",
       "    </tr>\n",
       "    <tr>\n",
       "      <th>...</th>\n",
       "      <td>...</td>\n",
       "      <td>...</td>\n",
       "      <td>...</td>\n",
       "      <td>...</td>\n",
       "      <td>...</td>\n",
       "    </tr>\n",
       "    <tr>\n",
       "      <th>74479</th>\n",
       "      <td>5692459</td>\n",
       "      <td>B</td>\n",
       "      <td>-1.0</td>\n",
       "      <td>0</td>\n",
       "      <td>0</td>\n",
       "    </tr>\n",
       "    <tr>\n",
       "      <th>74480</th>\n",
       "      <td>5692572</td>\n",
       "      <td>B</td>\n",
       "      <td>-1.0</td>\n",
       "      <td>0</td>\n",
       "      <td>0</td>\n",
       "    </tr>\n",
       "    <tr>\n",
       "      <th>74481</th>\n",
       "      <td>5692865</td>\n",
       "      <td>B</td>\n",
       "      <td>-1.0</td>\n",
       "      <td>0</td>\n",
       "      <td>0</td>\n",
       "    </tr>\n",
       "    <tr>\n",
       "      <th>74482</th>\n",
       "      <td>5693667</td>\n",
       "      <td>B</td>\n",
       "      <td>-1.0</td>\n",
       "      <td>0</td>\n",
       "      <td>0</td>\n",
       "    </tr>\n",
       "    <tr>\n",
       "      <th>74483</th>\n",
       "      <td>5694419</td>\n",
       "      <td>B</td>\n",
       "      <td>-1.0</td>\n",
       "      <td>0</td>\n",
       "      <td>0</td>\n",
       "    </tr>\n",
       "  </tbody>\n",
       "</table>\n",
       "<p>74484 rows × 5 columns</p>\n",
       "</div>"
      ]
     },
     "execution_count": 92,
     "metadata": {},
     "output_type": "execute_result"
    }
   ],
   "execution_count": 92
  },
  {
   "metadata": {},
   "cell_type": "markdown",
   "source": "Итоговая таблица.",
   "id": "1ab01d73364fce81"
  },
  {
   "metadata": {
    "ExecuteTime": {
     "end_time": "2024-08-21T11:20:43.210450Z",
     "start_time": "2024-08-21T11:20:42.927516Z"
    }
   },
   "cell_type": "code",
   "source": [
    "fig = plt.figure(figsize=(15, 6))\n",
    "sns.boxplot(data.query('rev>0'), y='rev', x='grp') # Распределение дохода больше нуля\n",
    "plt.title('Distribution of revenue by groups')\n",
    "plt.xlabel('Groups')\n",
    "plt.ylabel('Revenue')\n",
    "plt.show()"
   ],
   "id": "d791fd64d9b99805",
   "outputs": [
    {
     "data": {
      "text/plain": [
       "<Figure size 1500x600 with 1 Axes>"
      ],
      "image/png": "[encoded data removed]"
     },
     "metadata": {},
     "output_type": "display_data"
    }
   ],
   "execution_count": 24
  },
  {
   "metadata": {},
   "cell_type": "markdown",
   "source": "Данные в обеих группах не соответствуют нормальному распределению и содержат выбросы, причем в контрольной группе(группа A) выбросов больше. Также наблюдаются различия в медианах и квартилях между группами, которые могут указывать на неодинаковое распределение значений и различия в поведении пользователей или эффектах внедрённых изменений.",
   "id": "fa5ba5f909124126"
  },
  {
   "metadata": {},
   "cell_type": "markdown",
   "source": "### Разделение данных на тестовую и контрольную выборки",
   "id": "29c1ea3c2fe6293f"
  },
  {
   "metadata": {
    "ExecuteTime": {
     "end_time": "2024-08-21T11:20:43.251472Z",
     "start_time": "2024-08-21T11:20:43.210450Z"
    }
   },
   "cell_type": "code",
   "source": [
    "control = data[data['grp'] == 'A'] # Контрольная группа\n",
    "test = data[data['grp'] == 'B'] # Тестовая группа"
   ],
   "id": "89f2e60c85f8f98f",
   "outputs": [],
   "execution_count": 25
  },
  {
   "metadata": {
    "ExecuteTime": {
     "end_time": "2024-08-21T11:20:43.276951Z",
     "start_time": "2024-08-21T11:20:43.251472Z"
    }
   },
   "cell_type": "code",
   "source": "control[control['is_paid'] == 1]['rev'].describe()",
   "id": "abee3db2eb4c5c24",
   "outputs": [
    {
     "data": {
      "text/plain": [
       "count     107.000000\n",
       "mean      860.710280\n",
       "std       815.893445\n",
       "min       199.000000\n",
       "25%       290.000000\n",
       "50%       690.000000\n",
       "75%       990.000000\n",
       "max      3660.000000\n",
       "Name: rev, dtype: float64"
      ]
     },
     "execution_count": 26,
     "metadata": {},
     "output_type": "execute_result"
    }
   ],
   "execution_count": 26
  },
  {
   "metadata": {
    "ExecuteTime": {
     "end_time": "2024-08-21T11:20:43.308205Z",
     "start_time": "2024-08-21T11:20:43.276951Z"
    }
   },
   "cell_type": "code",
   "source": "test[test['is_paid'] == 1]['rev'].describe()",
   "id": "9f45a60159385aec",
   "outputs": [
    {
     "data": {
      "text/plain": [
       "count     433.000000\n",
       "mean     1106.997699\n",
       "std       741.714026\n",
       "min       199.000000\n",
       "25%       398.000000\n",
       "50%       880.000000\n",
       "75%      1900.000000\n",
       "max      4650.000000\n",
       "Name: rev, dtype: float64"
      ]
     },
     "execution_count": 27,
     "metadata": {},
     "output_type": "execute_result"
    }
   ],
   "execution_count": 27
  },
  {
   "metadata": {},
   "cell_type": "markdown",
   "source": "Среднее значение, медиана и стандартное отклонение в целевой группе отличаются от контрольной группы, что также указывает на различия в распределении данных и возможное влияние применённых изменений.",
   "id": "a96ee66a0a0410a3"
  },
  {
   "metadata": {},
   "cell_type": "markdown",
   "source": "### Расчет метрик, построение графиков по полученным показателям",
   "id": "e3035a957aa23f54"
  },
  {
   "metadata": {},
   "cell_type": "markdown",
   "source": "##### CR - Конверсия активных пользователей в оплату по группам.",
   "id": "2d729a8baef92139"
  },
  {
   "metadata": {
    "ExecuteTime": {
     "end_time": "2024-08-21T11:20:43.323823Z",
     "start_time": "2024-08-21T11:20:43.308205Z"
    }
   },
   "cell_type": "code",
   "source": [
    "# Функция, в которой реализована метрика конверсии активных пользователей в оплату\n",
    "def CR(data):\n",
    "    target_action = data.query('is_active==1')['is_paid'].sum() # Количество пользователей, совершивших целевое действие\n",
    "    cr = target_action / len(data.query('is_active==1')) # Конверсия в оплату\n",
    "    return cr * 100"
   ],
   "id": "f637e7226f1300eb",
   "outputs": [],
   "execution_count": 28
  },
  {
   "metadata": {
    "ExecuteTime": {
     "end_time": "2024-08-21T12:54:49.766253Z",
     "start_time": "2024-08-21T12:54:49.734730Z"
    }
   },
   "cell_type": "code",
   "source": [
    "cr_control = CR(control) # Конверсия контрольной группы\n",
    "cr_test = CR(test) # Конверсия тестовой группы\n",
    "\n",
    "print(f'CR Контрольная группа: {cr_control:.2f}%')\n",
    "print(f'CR Целевая группа: {cr_test:.2f}%')"
   ],
   "id": "2add065eda258d30",
   "outputs": [
    {
     "name": "stdout",
     "output_type": "stream",
     "text": [
      "CR Контрольная группа: 5.08%\n",
      "CR Целевая группа: 4.61%\n"
     ]
    }
   ],
   "execution_count": 97
  },
  {
   "metadata": {
    "ExecuteTime": {
     "end_time": "2024-08-21T11:20:43.559231Z",
     "start_time": "2024-08-21T11:20:43.355633Z"
    }
   },
   "cell_type": "code",
   "source": [
    "values = [cr_control, cr_test]\n",
    "labels = ['A', 'B']\n",
    "\n",
    "# Построение barplot\n",
    "plt.figure(figsize=(8, 6))\n",
    "plt.bar(labels, values, color=['orange', 'blue'], alpha=0.8)\n",
    "plt.title('CR (%)')\n",
    "plt.xlabel('Groups')\n",
    "plt.ylabel('%')\n",
    "plt.show()"
   ],
   "id": "5822329a38555f11",
   "outputs": [
    {
     "data": {
      "text/plain": [
       "<Figure size 800x600 with 1 Axes>"
      ],
      "image/png": "[encoded data removed]"
     },
     "metadata": {},
     "output_type": "display_data"
    }
   ],
   "execution_count": 30
  },
  {
   "metadata": {},
   "cell_type": "markdown",
   "source": [
    "Рассмотрена конверсия, так как необходимо понять, изменила ли новая механика оплаты поведение пользователей, стали ли они чаще покупать. В данном случае, контрольная группа(группа А) демонстрирует более высокую конверсию в оплату по сравнению с пользователями, использующими новую механику оплаты. \n",
    "\n",
    "Это может указывать на наличие проблем в новой механике: возможные сбои, препятствующие оплате (например, не все карты проходят), неудобства для пользователей/неочевидность действий в алгоритме оплаты или снижение скорости работы сайта с внедрением новой механики оплаты."
   ],
   "id": "1fec50e8c0f2998f"
  },
  {
   "metadata": {},
   "cell_type": "markdown",
   "source": "##### ARPPU - Средний доход на платящего пользователя.",
   "id": "df83f1a4bba8f2fd"
  },
  {
   "metadata": {
    "ExecuteTime": {
     "end_time": "2024-08-21T11:20:43.575036Z",
     "start_time": "2024-08-21T11:20:43.559231Z"
    }
   },
   "cell_type": "code",
   "source": [
    "# Функция, в которой реализована метрика среднего дохода на платящего пользователя\n",
    "def arppu(purchases):\n",
    "    repeat_purchase = len(purchases) / purchases['id'].nunique() # Повторные покупки\n",
    "    avg_rev = sum(purchases['rev']) / len(purchases) # Средний чек\n",
    "    arppu = repeat_purchase * avg_rev # Средний доход на платящего пользователя\n",
    "    return arppu"
   ],
   "id": "7ca9d992c0c51b63",
   "outputs": [],
   "execution_count": 31
  },
  {
   "metadata": {
    "ExecuteTime": {
     "end_time": "2024-08-21T12:54:56.915953Z",
     "start_time": "2024-08-21T12:54:56.887166Z"
    }
   },
   "cell_type": "code",
   "source": [
    "purchases_control = control.query('is_paid == 1') # Отделение пользователей, которые совершили оплату (контрольная группа)\n",
    "purchases_test = test.query('is_paid == 1') # Отделение пользователей, которые совершили оплату (тестовая группа)\n",
    "\n",
    "arppu_control = arppu(purchases_control) # ARPPU контрольная группа\n",
    "arppu_test = arppu(purchases_test) # ARPPU тестовая группа\n",
    "\n",
    "print(f'ARPPU (у.е) Контрольная группа: {arppu_control:.2f}')\n",
    "print(f'ARPPU (у.е) Целевая группа: {arppu_test:.2f}')"
   ],
   "id": "f50eca1f90cf8d16",
   "outputs": [
    {
     "name": "stdout",
     "output_type": "stream",
     "text": [
      "ARPPU (у.е) Контрольная группа: 860.71\n",
      "ARPPU (у.е) Целевая группа: 1107.00\n"
     ]
    }
   ],
   "execution_count": 98
  },
  {
   "metadata": {
    "ExecuteTime": {
     "end_time": "2024-08-21T11:20:43.804839Z",
     "start_time": "2024-08-21T11:20:43.592078Z"
    }
   },
   "cell_type": "code",
   "source": [
    "values = [arppu_control, arppu_test]\n",
    "labels = ['A', 'B']\n",
    "\n",
    "# Построение barplot\n",
    "plt.figure(figsize=(8, 6))\n",
    "plt.bar(labels, values, color=['orange', 'blue'], alpha=0.8)\n",
    "plt.title('ARPPU (у.е)')\n",
    "plt.xlabel('Groups')\n",
    "plt.show()"
   ],
   "id": "9600eb3143648c8b",
   "outputs": [
    {
     "data": {
      "text/plain": [
       "<Figure size 800x600 with 1 Axes>"
      ],
      "image/png": "[encoded data removed]"
     },
     "metadata": {},
     "output_type": "display_data"
    }
   ],
   "execution_count": 33
  },
  {
   "metadata": {},
   "cell_type": "markdown",
   "source": [
    "Анализ новой механики оплаты также рассмотрен с точки зрения увеличения среднего чека пользователей, благодаря внедрению изменений в механике оплаты. Поэтому была выбрана метрика среднего дохода на платящего пользователя (ARPPU). В данном случае наблюдается рост этого показателя: целевая группа демонстрирует более высокий средний доход на платящего пользователя. \n",
    "\n",
    "Это может свидетельствовать о том, что изменение механики оплаты способствует увеличению суммы покупок, повышению эффективности ценообразования или изменению пользовательского поведения - возможно, изменения в механике оплаты изменили покупательские привычки пользователей, побуждая их совершать более крупные покупки или добавлять дополнительные товары и услуги, что увеличивает средний чек."
   ],
   "id": "33a3656de4343af9"
  },
  {
   "metadata": {},
   "cell_type": "markdown",
   "source": "##### ARPU - средний доход на привлеченного пользователя.",
   "id": "893fb0903924a22"
  },
  {
   "metadata": {
    "ExecuteTime": {
     "end_time": "2024-08-21T11:22:46.938924Z",
     "start_time": "2024-08-21T11:22:46.923140Z"
    }
   },
   "cell_type": "code",
   "source": [
    "arpu_control = arppu_control * cr_control # ARPU контрольная группа\n",
    "arpu_test = arppu_test * cr_test # ARPU тестовая группа\n",
    "\n",
    "print(f'ARPU (у.е) Контрольная группа: {arpu_control}')\n",
    "print(f'ARPU (у.е) Целевая группа: {arpu_test}')"
   ],
   "id": "ae390f1618b4dc29",
   "outputs": [
    {
     "name": "stdout",
     "output_type": "stream",
     "text": [
      "ARPU (у.е) Контрольная группа: 4373.641815580383\n",
      "ARPU (у.е) Целевая группа: 5100.696006750601\n"
     ]
    }
   ],
   "execution_count": 64
  },
  {
   "metadata": {
    "ExecuteTime": {
     "end_time": "2024-08-21T11:20:44.029734Z",
     "start_time": "2024-08-21T11:20:43.827478Z"
    }
   },
   "cell_type": "code",
   "source": [
    "values = [arpu_control, arpu_test]\n",
    "labels = ['A', 'B']\n",
    "\n",
    "plt.figure(figsize=(8, 6))\n",
    "plt.bar(labels, values, color=['orange', 'blue'], alpha=0.8)\n",
    "plt.title('ARPU (у.е)')\n",
    "plt.xlabel('Groups')\n",
    "plt.show()"
   ],
   "id": "87efed6ff1aac2f7",
   "outputs": [
    {
     "data": {
      "text/plain": [
       "<Figure size 800x600 with 1 Axes>"
      ],
      "image/png": "[encoded data removed]"
     },
     "metadata": {},
     "output_type": "display_data"
    }
   ],
   "execution_count": 35
  },
  {
   "metadata": {},
   "cell_type": "markdown",
   "source": [
    "Новая механика оплаты может повлиять на общий доход от всех пользователей, независимо от того, совершают ли они платёжные транзакции или нет, поэтому рассматривается средний доход на пользователя (ARPU). \n",
    "В результате наблюдается рост среднего дохода на пользователя в целевой группе.\n",
    "\n",
    "Это говорит о том, что новая механика оплаты может оказывать положительное влияние на финансовые показатели, даже несмотря на более низкую конверсию по сравнению с контрольной группой. Такое повышение ARPU указывает на то, что новая механика, возможно, привлекает пользователей, готовых тратить больше, или улучшает их средний расход, что может компенсировать снижение конверсии и в конечном итоге способствовать общему росту дохода."
   ],
   "id": "e35336f62e03f401"
  },
  {
   "metadata": {
    "ExecuteTime": {
     "end_time": "2024-08-21T11:20:44.061013Z",
     "start_time": "2024-08-21T11:20:44.029734Z"
    }
   },
   "cell_type": "code",
   "source": "data",
   "id": "c5889e41b1247e63",
   "outputs": [
    {
     "data": {
      "text/plain": [
       "            id grp    rev  is_paid  is_active\n",
       "0         1489   B   -1.0        0          0\n",
       "1         1627   A  990.0        1          1\n",
       "2         1768   B   -1.0        0          0\n",
       "3         1783   B   -1.0        0          0\n",
       "4         1794   A   -1.0        0          0\n",
       "...        ...  ..    ...      ...        ...\n",
       "74479  5692459   B   -1.0        0          0\n",
       "74480  5692572   B   -1.0        0          0\n",
       "74481  5692865   B   -1.0        0          0\n",
       "74482  5693667   B   -1.0        0          0\n",
       "74483  5694419   B   -1.0        0          0\n",
       "\n",
       "[74484 rows x 5 columns]"
      ],
      "text/html": [
       "<div>\n",
       "<style scoped>\n",
       "    .dataframe tbody tr th:only-of-type {\n",
       "        vertical-align: middle;\n",
       "    }\n",
       "\n",
       "    .dataframe tbody tr th {\n",
       "        vertical-align: top;\n",
       "    }\n",
       "\n",
       "    .dataframe thead th {\n",
       "        text-align: right;\n",
       "    }\n",
       "</style>\n",
       "<table border=\"1\" class=\"dataframe\">\n",
       "  <thead>\n",
       "    <tr style=\"text-align: right;\">\n",
       "      <th></th>\n",
       "      <th>id</th>\n",
       "      <th>grp</th>\n",
       "      <th>rev</th>\n",
       "      <th>is_paid</th>\n",
       "      <th>is_active</th>\n",
       "    </tr>\n",
       "  </thead>\n",
       "  <tbody>\n",
       "    <tr>\n",
       "      <th>0</th>\n",
       "      <td>1489</td>\n",
       "      <td>B</td>\n",
       "      <td>-1.0</td>\n",
       "      <td>0</td>\n",
       "      <td>0</td>\n",
       "    </tr>\n",
       "    <tr>\n",
       "      <th>1</th>\n",
       "      <td>1627</td>\n",
       "      <td>A</td>\n",
       "      <td>990.0</td>\n",
       "      <td>1</td>\n",
       "      <td>1</td>\n",
       "    </tr>\n",
       "    <tr>\n",
       "      <th>2</th>\n",
       "      <td>1768</td>\n",
       "      <td>B</td>\n",
       "      <td>-1.0</td>\n",
       "      <td>0</td>\n",
       "      <td>0</td>\n",
       "    </tr>\n",
       "    <tr>\n",
       "      <th>3</th>\n",
       "      <td>1783</td>\n",
       "      <td>B</td>\n",
       "      <td>-1.0</td>\n",
       "      <td>0</td>\n",
       "      <td>0</td>\n",
       "    </tr>\n",
       "    <tr>\n",
       "      <th>4</th>\n",
       "      <td>1794</td>\n",
       "      <td>A</td>\n",
       "      <td>-1.0</td>\n",
       "      <td>0</td>\n",
       "      <td>0</td>\n",
       "    </tr>\n",
       "    <tr>\n",
       "      <th>...</th>\n",
       "      <td>...</td>\n",
       "      <td>...</td>\n",
       "      <td>...</td>\n",
       "      <td>...</td>\n",
       "      <td>...</td>\n",
       "    </tr>\n",
       "    <tr>\n",
       "      <th>74479</th>\n",
       "      <td>5692459</td>\n",
       "      <td>B</td>\n",
       "      <td>-1.0</td>\n",
       "      <td>0</td>\n",
       "      <td>0</td>\n",
       "    </tr>\n",
       "    <tr>\n",
       "      <th>74480</th>\n",
       "      <td>5692572</td>\n",
       "      <td>B</td>\n",
       "      <td>-1.0</td>\n",
       "      <td>0</td>\n",
       "      <td>0</td>\n",
       "    </tr>\n",
       "    <tr>\n",
       "      <th>74481</th>\n",
       "      <td>5692865</td>\n",
       "      <td>B</td>\n",
       "      <td>-1.0</td>\n",
       "      <td>0</td>\n",
       "      <td>0</td>\n",
       "    </tr>\n",
       "    <tr>\n",
       "      <th>74482</th>\n",
       "      <td>5693667</td>\n",
       "      <td>B</td>\n",
       "      <td>-1.0</td>\n",
       "      <td>0</td>\n",
       "      <td>0</td>\n",
       "    </tr>\n",
       "    <tr>\n",
       "      <th>74483</th>\n",
       "      <td>5694419</td>\n",
       "      <td>B</td>\n",
       "      <td>-1.0</td>\n",
       "      <td>0</td>\n",
       "      <td>0</td>\n",
       "    </tr>\n",
       "  </tbody>\n",
       "</table>\n",
       "<p>74484 rows × 5 columns</p>\n",
       "</div>"
      ]
     },
     "execution_count": 36,
     "metadata": {},
     "output_type": "execute_result"
    }
   ],
   "execution_count": 36
  },
  {
   "metadata": {},
   "cell_type": "markdown",
   "source": "##### Доля пользователей, которые оплатили, но не были активны в течение указанного периода.",
   "id": "c4cc4307e0e68250"
  },
  {
   "metadata": {
    "ExecuteTime": {
     "end_time": "2024-08-21T11:20:44.092594Z",
     "start_time": "2024-08-21T11:20:44.061013Z"
    }
   },
   "cell_type": "code",
   "source": [
    "paid_not_active = data.query('is_active == 0 and is_paid == 1').groupby('grp')['id'].count() / data.groupby('grp')['id'].count()\n",
    "paid_not_active"
   ],
   "id": "4f9954286f98296c",
   "outputs": [
    {
     "data": {
      "text/plain": [
       "grp\n",
       "A    0.001977\n",
       "B    0.002006\n",
       "Name: id, dtype: float64"
      ]
     },
     "execution_count": 37,
     "metadata": {},
     "output_type": "execute_result"
    }
   ],
   "execution_count": 37
  },
  {
   "metadata": {},
   "cell_type": "markdown",
   "source": [
    "Данная метрика рассматривается, чтобы оценить, влияет ли новая механика оплаты на общую удовлетворенность и активность пользователей. Высокая доля пользователей, которые оплатили, но не были активны, может указывать на проблемы с вовлечением или интересом к продукту после оплаты. В данном случае процент в обеих группах небольшой, однако\n",
    "в целевой группе эта доля немного выше, чем в контрольной. \n",
    "\n",
    "Возможно, новая механика оплаты привлекает пользователей, которые, несмотря на платежеспособность, не слишком активно используют продукт. "
   ],
   "id": "7da4b2481fa7465e"
  },
  {
   "metadata": {
    "ExecuteTime": {
     "end_time": "2024-08-21T11:20:44.483555Z",
     "start_time": "2024-08-21T11:20:44.092594Z"
    }
   },
   "cell_type": "code",
   "source": [
    "fig = plt.figure(figsize=(10, 6))\n",
    "sns.histplot(data.query('rev>0'), x='rev', hue='grp')\n",
    "plt.title('Distribution of revenue by groups')\n",
    "plt.xlabel('Revenue')\n",
    "plt.show()"
   ],
   "id": "6761aff579247b1c",
   "outputs": [
    {
     "data": {
      "text/plain": [
       "<Figure size 1000x600 with 1 Axes>"
      ],
      "image/png": "[encoded data removed]"
     },
     "metadata": {},
     "output_type": "display_data"
    }
   ],
   "execution_count": 38
  },
  {
   "metadata": {},
   "cell_type": "markdown",
   "source": [
    "В обеих группах распределение данных не соответствует нормальному закону. Тем не менее, в целевой группе наблюдается рост покупательской способности, несмотря на более низкую конверсию по сравнению с контрольной группой. \n",
    "\n",
    "Рост в покупательской способности может указывать на то, что новая механика оплаты привлекает пользователей, которые готовы тратить больше, хотя и снижает общую конверсию. Важно провести статистические тесты, чтобы подтвердить, насколько эти изменения значимы и не являются ли они следствием случайных колебаний."
   ],
   "id": "8625239a3c804f22"
  },
  {
   "metadata": {},
   "cell_type": "markdown",
   "source": "### Проведение статистических тестов",
   "id": "2f914965628cb4e7"
  },
  {
   "metadata": {},
   "cell_type": "markdown",
   "source": [
    "**Нулевая гипотеза (H0):** Конверсии в двух группах статистически не различаются. \n",
    "\n",
    "**Альтернативная гипотеза (H1):** Конверсии в двух группах статистически различаются."
   ],
   "id": "98e70a65f9525aa1"
  },
  {
   "metadata": {
    "ExecuteTime": {
     "end_time": "2024-08-21T11:20:44.499546Z",
     "start_time": "2024-08-21T11:20:44.483555Z"
    }
   },
   "cell_type": "code",
   "source": "from scipy.stats import chi2_contingency, chi2",
   "id": "7e2a3e922c25a0d4",
   "outputs": [],
   "execution_count": 39
  },
  {
   "metadata": {
    "ExecuteTime": {
     "end_time": "2024-08-21T11:20:44.530808Z",
     "start_time": "2024-08-21T11:20:44.499546Z"
    }
   },
   "cell_type": "code",
   "source": [
    "payments = data.groupby(['grp', 'is_paid'])['rev'].count().reset_index() # Создание датафрейма, в котором хранится число пользователей и статус оплаты\n",
    "payments = payments.pivot(index='grp', columns='is_paid', values='rev')"
   ],
   "id": "fe3208da6eea0e8c",
   "outputs": [],
   "execution_count": 40
  },
  {
   "metadata": {
    "ExecuteTime": {
     "end_time": "2024-08-21T11:20:44.546445Z",
     "start_time": "2024-08-21T11:20:44.530808Z"
    }
   },
   "cell_type": "code",
   "source": "payments",
   "id": "6688faa05b0e7c00",
   "outputs": [
    {
     "data": {
      "text/plain": [
       "is_paid      0    1\n",
       "grp                \n",
       "A        14564  107\n",
       "B        59380  433"
      ],
      "text/html": [
       "<div>\n",
       "<style scoped>\n",
       "    .dataframe tbody tr th:only-of-type {\n",
       "        vertical-align: middle;\n",
       "    }\n",
       "\n",
       "    .dataframe tbody tr th {\n",
       "        vertical-align: top;\n",
       "    }\n",
       "\n",
       "    .dataframe thead th {\n",
       "        text-align: right;\n",
       "    }\n",
       "</style>\n",
       "<table border=\"1\" class=\"dataframe\">\n",
       "  <thead>\n",
       "    <tr style=\"text-align: right;\">\n",
       "      <th>is_paid</th>\n",
       "      <th>0</th>\n",
       "      <th>1</th>\n",
       "    </tr>\n",
       "    <tr>\n",
       "      <th>grp</th>\n",
       "      <th></th>\n",
       "      <th></th>\n",
       "    </tr>\n",
       "  </thead>\n",
       "  <tbody>\n",
       "    <tr>\n",
       "      <th>A</th>\n",
       "      <td>14564</td>\n",
       "      <td>107</td>\n",
       "    </tr>\n",
       "    <tr>\n",
       "      <th>B</th>\n",
       "      <td>59380</td>\n",
       "      <td>433</td>\n",
       "    </tr>\n",
       "  </tbody>\n",
       "</table>\n",
       "</div>"
      ]
     },
     "execution_count": 41,
     "metadata": {},
     "output_type": "execute_result"
    }
   ],
   "execution_count": 41
  },
  {
   "metadata": {},
   "cell_type": "markdown",
   "source": "##### Тест Хи-квадрат",
   "id": "a821675618373fed"
  },
  {
   "metadata": {
    "ExecuteTime": {
     "end_time": "2024-08-21T11:20:44.562060Z",
     "start_time": "2024-08-21T11:20:44.546445Z"
    }
   },
   "cell_type": "code",
   "source": [
    "stat, p_value, dof, expected = chi2_contingency(payments)\n",
    "print(f\"Хи-квадрат: {stat}\\np-value: {p_value}\\nКоличество степеней свободы: {dof}\")"
   ],
   "id": "ee7b23c39a0db232",
   "outputs": [
    {
     "name": "stdout",
     "output_type": "stream",
     "text": [
      "Хи-квадрат: 0.00022142268710807016\n",
      "p-value: 0.9881276936892961\n",
      "Количество степеней свободы: 1\n"
     ]
    }
   ],
   "execution_count": 42
  },
  {
   "metadata": {},
   "cell_type": "markdown",
   "source": "Тест Хи-квадрат был выбран для оценки независимости между конверсиями в двух группах, так как он подходит для анализа категориальных данных",
   "id": "2be8607a2eedd88a"
  },
  {
   "metadata": {
    "ExecuteTime": {
     "end_time": "2024-08-21T11:20:44.577683Z",
     "start_time": "2024-08-21T11:20:44.562060Z"
    }
   },
   "cell_type": "code",
   "source": [
    "prob = .95 # Уровень значимости (вероятность для критического значения)\n",
    "critical = chi2.ppf(prob, dof) # Критическое значение для теста с заданным уровнем значимости и степенями свободы\n",
    "if abs(stat) >= critical:\n",
    "    print(f'Отклоняем H0: конверсии двух групп статистически различаются, p-value: {p_value:.2f}')\n",
    "else:\n",
    "    print(f'Не отклоняем H0: конверсии двух групп статистически не различаются, p-value: {p_value:.2f}')"
   ],
   "id": "b1e91393fc512cd2",
   "outputs": [
    {
     "name": "stdout",
     "output_type": "stream",
     "text": [
      "Не отклоняем H0: конверсии двух групп статистически не различаются, p-value: 0.99\n"
     ]
    }
   ],
   "execution_count": 43
  },
  {
   "metadata": {},
   "cell_type": "markdown",
   "source": "P-value значительно выше уровня значимости 0.05, это означает, что нулевая гипотеза не отклоняется. Таким образом, статистически значимых различий в конверсиях между двумя группами нет.",
   "id": "f57e1be0b086db6a"
  },
  {
   "metadata": {},
   "cell_type": "markdown",
   "source": [
    "**Нулевая гипотеза (H0):** Средние значения доходов в контрольной и целевой группах статистически не различаются\n",
    "\n",
    "**Альтернативная гипотеза (H1):** Средние значения доходов в контрольной и целевой группах статистически различны"
   ],
   "id": "b2450658d2cd178"
  },
  {
   "metadata": {
    "ExecuteTime": {
     "end_time": "2024-08-21T11:20:44.624557Z",
     "start_time": "2024-08-21T11:20:44.577683Z"
    }
   },
   "cell_type": "code",
   "source": [
    "from scipy.stats import mannwhitneyu, ttest_ind, norm\n",
    "from tqdm.auto import tqdm\n",
    "import numpy as np"
   ],
   "id": "11c837018d3da552",
   "outputs": [],
   "execution_count": 44
  },
  {
   "metadata": {
    "ExecuteTime": {
     "end_time": "2024-08-21T11:20:44.640185Z",
     "start_time": "2024-08-21T11:20:44.624557Z"
    }
   },
   "cell_type": "code",
   "source": [
    "control_rev = purchases_control['rev'] # Контрольная выборка с платящими пользователями\n",
    "test_rev = purchases_test['rev'] # Тестовая выборка с платящими пользователями"
   ],
   "id": "992121cce07e7444",
   "outputs": [],
   "execution_count": 45
  },
  {
   "metadata": {
    "ExecuteTime": {
     "end_time": "2024-08-21T11:20:44.655834Z",
     "start_time": "2024-08-21T11:20:44.640185Z"
    }
   },
   "cell_type": "code",
   "source": [
    "# Функция, в которой реализована проверка на статистическую значимость с уровнем значимости 5%\n",
    "def stat_significance(p_value):\n",
    "    alpha = .05 # Уровень значимости, который используется для принятия решения\n",
    "    \n",
    "    # Проверка, меньше ли p-value установленного уровня значимости alpha\n",
    "    if p_value <= alpha:\n",
    "        print(f'Отклоняем H0: Средние значения доходов различаются, p-value: {p_value:.4f}')\n",
    "    else:\n",
    "        print(f'Не отклоняем H0: Средние значения доходов одинаковы, p-value: {p_value:.4f}')"
   ],
   "id": "528786d7ea35139b",
   "outputs": [],
   "execution_count": 46
  },
  {
   "metadata": {},
   "cell_type": "markdown",
   "source": "Функция stat_significance используется для принятия решения о статистической значимости результатов теста на основе сравнения p-value с заранее установленным уровнем значимости (alpha = 0.05). В зависимости от результата сравнения она выводит соответствующее сообщение.",
   "id": "40fcaa9c3c9a5527"
  },
  {
   "metadata": {},
   "cell_type": "markdown",
   "source": "##### Т-тест для независимых выборок",
   "id": "c86e73d1c2ee5205"
  },
  {
   "metadata": {
    "ExecuteTime": {
     "end_time": "2024-08-21T11:20:44.671525Z",
     "start_time": "2024-08-21T11:20:44.655834Z"
    }
   },
   "cell_type": "code",
   "source": [
    "stat, p_value = ttest_ind(control_rev, test_rev) # t-тест для двух независимых выборок с положительными доходами\n",
    "print(f\"t-статистика: {stat}\\np-value: {p_value}\\n\")\n",
    "stat_significance(p_value)"
   ],
   "id": "50d6cb1cd675fddf",
   "outputs": [
    {
     "name": "stdout",
     "output_type": "stream",
     "text": [
      "t-статистика: -3.0139777685309754\n",
      "p-value: 0.002699993302662584\n",
      "\n",
      "Отклоняем H0: Средние значения доходов различаются, p-value: 0.0027\n"
     ]
    }
   ],
   "execution_count": 47
  },
  {
   "metadata": {},
   "cell_type": "markdown",
   "source": "T-тест для независимых выборок был выбран, так как данные представляют собой сравнение средних значений между двумя группами. P-value значительно ниже уровня значимости 0.05, что позволяет отклонить нулевую гипотезу. Это указывает на статистически значимые различия в средних доходах между контрольной и целевой группами, что свидетельствует о влиянии новой механики оплаты на поведение пользователей и их склонность к совершению покупок.",
   "id": "db376d721095a7ca"
  },
  {
   "metadata": {},
   "cell_type": "markdown",
   "source": "##### U-критерий Манна-Уитни",
   "id": "b60893dea348db2b"
  },
  {
   "metadata": {
    "ExecuteTime": {
     "end_time": "2024-08-21T13:07:11.658719Z",
     "start_time": "2024-08-21T13:07:11.643268Z"
    }
   },
   "cell_type": "code",
   "source": [
    "stat, p_value = mannwhitneyu(control_rev, test_rev)\n",
    "print(f\"U-критерий Манна-Уитни: {stat}\\np-value: {p_value}\\n\")\n",
    "stat_significance(p_value)"
   ],
   "id": "a16e21782ca9276c",
   "outputs": [
    {
     "name": "stdout",
     "output_type": "stream",
     "text": [
      "U-критерий Манна-Уитни: 17850.0\n",
      "p-value: 0.00021019690333618245\n",
      "\n",
      "Отклоняем H0: Средние значения доходов различаются, p-value: 0.0002\n"
     ]
    }
   ],
   "execution_count": 99
  },
  {
   "metadata": {},
   "cell_type": "markdown",
   "source": "U-критерий Манна-Уитни был выбран, так как данные могли не следовать нормальному распределению, и предварительно распределение выборочных средних для применения t-теста не было проверено. Низкое значение p-value по сравнению с уровнем значимости 0.05 позволяет отвергнуть нулевую гипотезу, что подтверждает наличие статистически значимых различий в средних значениях доходов между контрольной и целевой группами.",
   "id": "e7043fbbf7847145"
  },
  {
   "metadata": {},
   "cell_type": "markdown",
   "source": "**Бутстрап-тест**",
   "id": "19925302c7cda850"
  },
  {
   "metadata": {
    "ExecuteTime": {
     "end_time": "2024-08-21T11:20:44.734038Z",
     "start_time": "2024-08-21T11:20:44.702815Z"
    }
   },
   "cell_type": "code",
   "source": [
    "# Начальное значение генератора случайных чисел для воспроизводимости результатов\n",
    "np.random.seed(12)\n",
    "\n",
    "# Функция, в которой реализован бутстрап-тест\n",
    "def get_bootstrap(data_column_1, data_column_2, iterations=15000, statistic=np.mean, sign_level=0.05):\n",
    "    # Определение длины бутстрап-выборок\n",
    "    boot_len = max(len(data_column_1), len(data_column_2))\n",
    "    \n",
    "    # Инициализация списков для хранения результатов бутстрап-выборок\n",
    "    boot_data, samples_1_a, samples_2_a = [], [], []\n",
    "\n",
    "    # Бутстрап-сэмплирование\n",
    "    for _ in tqdm(range(iterations)):\n",
    "        # Бутстрап-выборки для каждой группы\n",
    "        sample_1 = data_column_1.sample(boot_len, replace=True).values\n",
    "        sample_2 = data_column_2.sample(boot_len, replace=True).values\n",
    "        \n",
    "        boot_data.append(statistic(sample_2 - sample_1)) # Вычисление статистики для разности между выборками\n",
    "        \n",
    "        samples_1_a.append(np.mean(sample_1)) # Добавляем среднего значения выборок в список\n",
    "        samples_2_a.append(np.mean(sample_2)) # Добавляем среднего значения выборок в список\n",
    "\n",
    "    quants = pd.DataFrame(boot_data).quantile([sign_level / 2, 1 - sign_level / 2]) # Вычисление квантильного значения для интервала значимости\n",
    "\n",
    "    # Вычисление p-значения\n",
    "    boot_mean, boot_std = np.mean(boot_data), np.std(boot_data)\n",
    "    p_1 = norm.cdf(0, boot_mean, boot_std)   # p-значение для положительного среднего\n",
    "    p_2 = norm.cdf(0, -boot_mean, boot_std)  # p-значение для отрицательного среднего\n",
    "    p_value = min(p_1, p_2) * 2              # Двустороннее p-значение\n",
    "\n",
    "    # Построение графиков\n",
    "    fig, axes = plt.subplots(2, 1, figsize=(10, 10), dpi=100)\n",
    "    \n",
    "    # График 1: распределение разностей статистик\n",
    "    axes[0].grid(True, linestyle='-', linewidth=0.7, color='lightgrey')\n",
    "    axes[0].set_facecolor('white')\n",
    "    n, _, bars = axes[0].hist(boot_data, bins=50)\n",
    "    \n",
    "    # Окрашивание столбцов в зависимости от квантилей\n",
    "    for bar in bars:\n",
    "        if bar.get_x() <= quants.iloc[0][0] or bar.get_x() >= quants.iloc[1][0]:\n",
    "            bar.set_facecolor('palevioletred')\n",
    "        else: \n",
    "            bar.set_facecolor('deepskyblue')\n",
    "        bar.set_edgecolor('purple')\n",
    "\n",
    "    # Вертикальные линии для среднего и квантилей\n",
    "    axes[0].vlines(boot_mean, ymin=0, ymax=max(n), linestyle='-', color='purple', linewidth=0.7)\n",
    "    axes[0].vlines(quants, ymin=0, ymax=max(n), linestyle='--', color='purple', linewidth=0.7)\n",
    "    axes[0].annotate(f\"{quants.iloc[0][0]:.3f}\", xy=(quants.iloc[0][0], 0), xytext=(quants.iloc[0][0] + .001, max(n) / 2))\n",
    "    axes[0].annotate(f\"{quants.iloc[1][0]:.3f}\", xy=(quants.iloc[1][0], 0), xytext=(quants.iloc[1][0] + .001, max(n) / 2))\n",
    "    axes[0].set(xlabel='boot_data', ylabel='Frequency', title=f'Distribution of differences in {statistic.__name__}s')\n",
    "    \n",
    "    # График 2: распределение средних значений бутстрап-выборок\n",
    "    axes[1].grid(True, linestyle='-', linewidth=0.7, color='lightgrey')\n",
    "    axes[1].set_facecolor('white')\n",
    "    axes[1].hist(samples_1_a, bins=50, color='deepskyblue', alpha=0.5, label=f\"{statistic.__name__}s of boot dataset 1\")\n",
    "    axes[1].hist(samples_2_a, bins=50, color='crimson', alpha=0.5, label=f\"{statistic.__name__}s of boot dataset 2\")\n",
    "    axes[1].set(ylabel='Frequency')\n",
    "    axes[1].legend()\n",
    "    plt.subplots_adjust(hspace=0.2)\n",
    "\n",
    "    # Вывод результата\n",
    "    conclusion = \"reject\" if p_value <= sign_level else \"fail to reject\"\n",
    "    print(f\"The p-value of {np.round(p_value, 6)} suggests that there is evidence to {conclusion} the null hypothesis at the {sign_level} significance level.\")\n",
    "\n",
    "    return {'quants': quants, 'boot mean': boot_mean, 'p_value': p_value}"
   ],
   "id": "c3a53f9427d69b28",
   "outputs": [],
   "execution_count": 49
  },
  {
   "metadata": {},
   "cell_type": "markdown",
   "source": "Функция, в которой реализован бутстрап-тест.",
   "id": "4a0c9cd8d51c1be3"
  },
  {
   "metadata": {
    "ExecuteTime": {
     "end_time": "2024-08-21T11:20:50.775986Z",
     "start_time": "2024-08-21T11:20:44.734038Z"
    }
   },
   "cell_type": "code",
   "source": [
    "boot_data = get_bootstrap(control_rev, test_rev,statistic=np.median) \n",
    "p_value = boot_data['p_value']"
   ],
   "id": "2005fadf8ed7b239",
   "outputs": [
    {
     "data": {
      "text/plain": [
       "  0%|          | 0/15000 [00:00<?, ?it/s]"
      ],
      "application/vnd.jupyter.widget-view+json": {
       "version_major": 2,
       "version_minor": 0,
       "model_id": "5e98e9adb17c4dcf87f9203f716302be"
      }
     },
     "metadata": {},
     "output_type": "display_data"
    },
    {
     "name": "stdout",
     "output_type": "stream",
     "text": [
      "The p-value of 0.000837 suggests that there is evidence to reject the null hypothesis at the 0.05 significance level.\n"
     ]
    },
    {
     "data": {
      "text/plain": [
       "<Figure size 1000x1000 with 2 Axes>"
      ],
      "image/png": "[encoded data removed]"
     },
     "metadata": {},
     "output_type": "display_data"
    }
   ],
   "execution_count": 50
  },
  {
   "metadata": {
    "ExecuteTime": {
     "end_time": "2024-08-21T12:05:34.742600Z",
     "start_time": "2024-08-21T12:05:34.726520Z"
    }
   },
   "cell_type": "code",
   "source": [
    "p_value = boot_data['p_value']\n",
    "print(f\"boot mean: {boot_data['boot mean']}\") # Значение представляет среднюю разницу между выборками, полученную в результате бутстрап-сэмплирования.\n",
    "print(f\"quants: {boot_data['quants']}\\n\") # Значения формируют 95%-ный доверительный интервал для разности медиан между двумя выборками\n",
    "stat_significance(p_value)"
   ],
   "id": "11428b490d5a08f3",
   "outputs": [
    {
     "name": "stdout",
     "output_type": "stream",
     "text": [
      "boot mean: 266.1676683266667\n",
      "quants:            0\n",
      "0.025  108.0\n",
      "0.975  400.0\n",
      "\n",
      "Отклоняем H0: Средние значения доходов различаются, p-value: 0.0008\n"
     ]
    }
   ],
   "execution_count": 83
  },
  {
   "metadata": {},
   "cell_type": "markdown",
   "source": [
    "В качестве статистики бутстрапа была выбрана медиана (робастная оценка), учитывая наличие выбросов в оплатах обеих групп и неравномерном распределении данных. \n",
    "Бутсрап-тест выбран как непараметрический метод, который не требует предположений о распределении данных и помогает улучшить точность оценок медианы через многократный ресэмплинг исходных данных. \n",
    "\n",
    "Поскольку доверительный интервал не включает ноль (все значения положительные), это указывает на статистически значимое различие между выборками. \n",
    "Значительно низкий p-value по сравнению с уровнем значимости 0.05 подтверждает статистически значимые различия в средних доходах между контрольной и целевой группами."
   ],
   "id": "4dc2c436a88c7bf3"
  },
  {
   "metadata": {},
   "cell_type": "markdown",
   "source": [
    "# Вывод\n",
    "В ходе анализа новой механики оплаты на сайте, было проведено сравнение ключевых метрик между контрольной и целевой группами, а так же проведение статистических тестов для выявления влияния новой механики оплаты на пользовательский опыт. Вот основные выводы:\n",
    "\n",
    "#### Метрики и их анализ:\n",
    "**CR (Конверсия):** В целевой группе конверсия оказалась ниже по сравнению с контрольной группой. Это может указывать на потенциальные проблемы с новой механикой оплаты, такие как технические сбои, снижение удобства для пользователей или недостаточную ясность в её внедрении.\n",
    "\n",
    "**ARPPU (Средний доход на платящего пользователя):** В целевой группе наблюдается рост показателя ARPPU, что свидетельствует о том, что платящие пользователи в новой механике тратят больше. Это может указывать на положительное влияние новой механики на средний чек.\n",
    "\n",
    "**ARPU (Средний доход на пользователя):** Этот показатель также вырос в целевой группе, подтверждая, что новая механика оплаты способствует увеличению общего дохода, несмотря на снижение конверсии.\n",
    "\n",
    "**Доля пользователей, которые оплатили, но не были активны в течение указанного периода:** Этот показатель оказался схожим в обеих группах, что указывает на отсутствие значительных изменений в поведении пользователей, которые оплатили, но не проявили активности.\n",
    "##\n",
    "#### Статистическая значимость различий:\n",
    "**T-тест** и **U-критерий Манна-Уитни** подтвердили статистически значимые различия в средних доходах между группами, что указывает на наличие эффекта новой механики оплаты.\n",
    "\n",
    "**Бутсрап-тест** также подтвердил результаты других тестов, продемонстрировав, что различия в доходах статистически значимы.\n",
    "\n",
    "**Тест Хи-квадрат** для конверсий показал, что различия в конверсии между группами не являются статистически значимыми, что указывает на отсутствие значимых изменений в поведении пользователей по этому показателю.\n",
    "#\n",
    "Таким образом, новая механика оплаты демонстрирует увеличение доходов без значительного влияния на конверсию, что подтверждает её перспективность для внедрения."
   ],
   "id": "16101188d45b6bdd"
  },
  {
   "metadata": {},
   "cell_type": "markdown",
   "source": "### Вычисление метрик с учетом дополнительного файла с пользоватеями",
   "id": "d400bcbf6e362b22"
  },
  {
   "metadata": {
    "ExecuteTime": {
     "end_time": "2024-08-21T11:20:51.344508Z",
     "start_time": "2024-08-21T11:20:50.792015Z"
    }
   },
   "cell_type": "code",
   "source": "group_add = upload_df('https://disk.yandex.ru/d/1-7bzX5vd7bRQQ')",
   "id": "1247482b28ec05c2",
   "outputs": [],
   "execution_count": 52
  },
  {
   "metadata": {},
   "cell_type": "markdown",
   "source": "Дополнительный файл с пользователями, который прислали спустя 2 дня после передачи данных",
   "id": "14ac62a8050aa00b"
  },
  {
   "metadata": {
    "ExecuteTime": {
     "end_time": "2024-08-21T11:38:40.605317Z",
     "start_time": "2024-08-21T11:38:40.592319Z"
    }
   },
   "cell_type": "code",
   "source": "len(group_add)",
   "id": "e8993d180488b2b2",
   "outputs": [
    {
     "data": {
      "text/plain": [
       "92"
      ]
     },
     "execution_count": 77,
     "metadata": {},
     "output_type": "execute_result"
    }
   ],
   "execution_count": 77
  },
  {
   "metadata": {},
   "cell_type": "markdown",
   "source": "Для оценки результатов A/B-теста было добавлено 92 новых пользователя, распределённых по группам.",
   "id": "67373e61a5362194"
  },
  {
   "metadata": {
    "ExecuteTime": {
     "end_time": "2024-08-21T11:20:51.564191Z",
     "start_time": "2024-08-21T11:20:51.344508Z"
    }
   },
   "cell_type": "code",
   "source": [
    "sns.barplot(group_add['grp'].value_counts())\n",
    "plt.title('Distribution of groups')\n",
    "plt.xlabel('Groups')\n",
    "plt.show()"
   ],
   "id": "f8cb16d52a884eab",
   "outputs": [
    {
     "data": {
      "text/plain": [
       "<Figure size 640x480 with 1 Axes>"
      ],
      "image/png": "[encoded data removed]"
     },
     "metadata": {},
     "output_type": "display_data"
    }
   ],
   "execution_count": 53
  },
  {
   "metadata": {},
   "cell_type": "markdown",
   "source": "Распределение количества пользователей по группам дополнительного файла с пользователями. Целевая группа (группа В) также преобладает по количеству пользователей.",
   "id": "bd35de7d2f7f2163"
  },
  {
   "metadata": {
    "ExecuteTime": {
     "end_time": "2024-08-21T13:13:44.028360Z",
     "start_time": "2024-08-21T13:13:44.008456Z"
    }
   },
   "cell_type": "code",
   "source": [
    "def build(data, add):\n",
    "    # Добавление к существующей таблице data дополнительного файла с пользователями и заполнение пропущенных значений\n",
    "    data = pd.concat([data, add], ignore_index=True)\n",
    "    data['rev'] = data['rev'].fillna(value=-1) #\n",
    "    data['is_paid'] = data['rev'].apply(lambda x: 1 if x > 0 else 0) \n",
    "    data['is_active'] = data['id'].isin(active_studs['id']).apply(lambda x: 1 if x else 0) \n",
    "    \n",
    "    # Разделение данных на контрольную и тестовую выборку\n",
    "    control = data[data['grp'] == 'A'] \n",
    "    test = data[data['grp'] == 'B'] \n",
    "    \n",
    "    # Пересчитывание метрик\n",
    "    metrics = {'CR':[], 'ARPPU': [], 'ARPU': []} # Словарь, в котором будут храниться посчитанные метрики\n",
    "    \n",
    "    cr_control = CR(control) \n",
    "    cr_test = CR(test) \n",
    "    \n",
    "    metrics['CR'].append(cr_control)\n",
    "    metrics['CR'].append(cr_test)\n",
    "    \n",
    "    print(f'CR (%) Контрольная группа: {cr_control:.2f}%')\n",
    "    print(f'CR (%) Целевая группа: {cr_test:.2f}%\\n')\n",
    "\n",
    "    purchases_control = control.query('is_paid == 1') # Отделяем только заплативших пользователей\n",
    "    purchases_test = test.query('is_paid == 1') \n",
    "    \n",
    "    arppu_control = arppu(purchases_control)\n",
    "    arppu_test = arppu(purchases_test)\n",
    "    \n",
    "    metrics['ARPPU'].append(arppu_control)\n",
    "    metrics['ARPPU'].append(arppu_test)\n",
    "    \n",
    "    print(f'ARPPU (у.е) Контрольная группа: {arppu_control:.2f}')\n",
    "    print(f'ARPPU (у.е) Целевая группа: {arppu_test:.2f}\\n')\n",
    "\n",
    "    arpu_control = arppu_control * cr_control\n",
    "    arpu_test = arppu_test * cr_test\n",
    "    \n",
    "    metrics['ARPU'].append(arpu_control)\n",
    "    metrics['ARPU'].append(arpu_test)\n",
    "    \n",
    "    print(f'ARPU (у.е) Контрольная группа: {arpu_control:.2f}')\n",
    "    print(f'ARPU (у.е) Целевая группа: {arpu_test:.2f}')\n",
    "    \n",
    "    return data, pd.DataFrame(metrics, columns=['CR', 'ARPPU', 'ARPU'], index=['A', 'B'])"
   ],
   "id": "870b370be7edd363",
   "outputs": [],
   "execution_count": 104
  },
  {
   "metadata": {},
   "cell_type": "markdown",
   "source": "Реализована функция, которая автоматически подгружает информацию из дополнительного файла groups_add.csv и на основании дополнительных параметров пересчитывает метрики.",
   "id": "a9a604728e187676"
  },
  {
   "metadata": {
    "ExecuteTime": {
     "end_time": "2024-08-21T13:13:45.580821Z",
     "start_time": "2024-08-21T13:13:45.440Z"
    }
   },
   "cell_type": "code",
   "source": "data_nw, metrics_nw = build(data, group_add)",
   "id": "4cc5f638ba595625",
   "outputs": [
    {
     "name": "stdout",
     "output_type": "stream",
     "text": [
      "CR (%) Контрольная группа: 5.07%\n",
      "CR (%) Целевая группа: 4.60%\n",
      "\n",
      "ARPPU (у.е) Контрольная группа: 860.71\n",
      "ARPPU (у.е) Целевая группа: 1107.00\n",
      "\n",
      "ARPU (у.е) Контрольная группа: 4365.11\n",
      "ARPU (у.е) Целевая группа: 5093.20\n"
     ]
    }
   ],
   "execution_count": 105
  },
  {
   "metadata": {},
   "cell_type": "markdown",
   "source": [
    "Спустя 2 дня после внедрения новой механики оплаты конверсия в обеих группах немного снизилась(5.07% по сравнению с 5.08% для контрольной группы и 4.61% по сравнению с 4.60% для целевой). Это снижение может быть вызвано временным влиянием новой механики или другими внешними факторами, такими как сезонные колебания, технические сбои или изменения в пользовательском поведении, например, адаптация к новой механике.\n",
    "\n",
    "ARPPU в обеих группах осталось неизменным. Это может означать, что новые оплаты не происходили, либо изменения в количестве оплат компенсировались изменениями в средней сумме оплаты.\n",
    "\n",
    "ARPU снизился в обеих группах примерно на 7-8 единиц(4373.6 по сравнению с 4365.1 для контрольной группы и 5100.7 по сравнению с 5093.2 для целевой). Это может указывать на сезонные изменения, такие как снижение интереса пользователей или уменьшение их активности в течение этих двух дней, что также повлияло на конверсию."
   ],
   "id": "96ced34b60813671"
  },
  {
   "metadata": {
    "ExecuteTime": {
     "end_time": "2024-08-21T11:47:27.251193Z",
     "start_time": "2024-08-21T11:47:27.216787Z"
    }
   },
   "cell_type": "code",
   "source": "len(data_nw.query('is_paid == 1')) / len(data.query('is_paid == 1'))",
   "id": "2601305af971f0d7",
   "outputs": [
    {
     "data": {
      "text/plain": [
       "1.0"
      ]
     },
     "execution_count": 80,
     "metadata": {},
     "output_type": "execute_result"
    }
   ],
   "execution_count": 80
  },
  {
   "metadata": {
    "ExecuteTime": {
     "end_time": "2024-08-21T11:48:22.222030Z",
     "start_time": "2024-08-21T11:48:22.206182Z"
    }
   },
   "cell_type": "code",
   "source": "len(data_nw) / len(data)",
   "id": "b0fe7966ec5fdf70",
   "outputs": [
    {
     "data": {
      "text/plain": [
       "1.0012351645991084"
      ]
     },
     "execution_count": 82,
     "metadata": {},
     "output_type": "execute_result"
    }
   ],
   "execution_count": 82
  },
  {
   "metadata": {},
   "cell_type": "markdown",
   "source": "С учётом дополнительного файла пользователей можно объяснить изменения метрик в обеих группах: новые пользователи не совершили оплат.",
   "id": "8603024a9d41d60c"
  },
  {
   "metadata": {
    "ExecuteTime": {
     "end_time": "2024-08-21T11:35:08.914881Z",
     "start_time": "2024-08-21T11:35:08.883497Z"
    }
   },
   "cell_type": "code",
   "source": [
    "def plot_metric(metrics, title):\n",
    "    figure, ax = plt.subplots(1, 3, figsize=(15, 5))\n",
    "    \n",
    "    figure.suptitle(title, fontsize=14)\n",
    "    ax_1 = sns.barplot(x=metrics.index, y=metrics['CR'], ax=ax[0], hue=metrics.index)\n",
    "    ax_1.set_xlabel('Groups')\n",
    "    ax_1.set_title('Метрика CR (%)')\n",
    "    \n",
    "    ax_2 = sns.barplot(x=metrics.index, y=metrics['ARPPU'], ax=ax[1], hue=metrics.index)\n",
    "    ax_2.set_xlabel('Groups')\n",
    "    ax_2.set_title('Метрика ARPPU (у.е)')\n",
    "    \n",
    "    ax_3 = sns.barplot(x=metrics.index, y=metrics['ARPU'], ax=ax[2], hue=metrics.index)\n",
    "    ax_3.set_xlabel('Groups')\n",
    "    ax_3.set_title('Метрика ARPU (у.е)')"
   ],
   "id": "275a89c2e4183e4f",
   "outputs": [],
   "execution_count": 74
  },
  {
   "metadata": {},
   "cell_type": "markdown",
   "source": "Реализована функция, которая строит графики по получаемым метрикам.",
   "id": "54c8eded308e5eb1"
  },
  {
   "metadata": {
    "ExecuteTime": {
     "end_time": "2024-08-21T11:20:52.334603Z",
     "start_time": "2024-08-21T11:20:52.310360Z"
    }
   },
   "cell_type": "code",
   "source": [
    "metrics = pd.DataFrame({\n",
    "    'CR': [cr_control, cr_test],\n",
    "    'ARPPU': [arppu_control, arppu_test],\n",
    "    'ARPU': [arpu_control, arpu_test],\n",
    "}, columns=['CR', 'ARPPU', 'ARPU'], index=['A', 'B'])"
   ],
   "id": "91dda374f73b3c07",
   "outputs": [],
   "execution_count": 58
  },
  {
   "metadata": {
    "ExecuteTime": {
     "end_time": "2024-08-21T11:20:52.366980Z",
     "start_time": "2024-08-21T11:20:52.335697Z"
    }
   },
   "cell_type": "code",
   "source": "metrics",
   "id": "67aadbe3b532e0cd",
   "outputs": [
    {
     "data": {
      "text/plain": [
       "         CR        ARPPU         ARPU\n",
       "A  5.081433   860.710280  4373.641816\n",
       "B  4.607684  1106.997699  5100.696007"
      ],
      "text/html": [
       "<div>\n",
       "<style scoped>\n",
       "    .dataframe tbody tr th:only-of-type {\n",
       "        vertical-align: middle;\n",
       "    }\n",
       "\n",
       "    .dataframe tbody tr th {\n",
       "        vertical-align: top;\n",
       "    }\n",
       "\n",
       "    .dataframe thead th {\n",
       "        text-align: right;\n",
       "    }\n",
       "</style>\n",
       "<table border=\"1\" class=\"dataframe\">\n",
       "  <thead>\n",
       "    <tr style=\"text-align: right;\">\n",
       "      <th></th>\n",
       "      <th>CR</th>\n",
       "      <th>ARPPU</th>\n",
       "      <th>ARPU</th>\n",
       "    </tr>\n",
       "  </thead>\n",
       "  <tbody>\n",
       "    <tr>\n",
       "      <th>A</th>\n",
       "      <td>5.081433</td>\n",
       "      <td>860.710280</td>\n",
       "      <td>4373.641816</td>\n",
       "    </tr>\n",
       "    <tr>\n",
       "      <th>B</th>\n",
       "      <td>4.607684</td>\n",
       "      <td>1106.997699</td>\n",
       "      <td>5100.696007</td>\n",
       "    </tr>\n",
       "  </tbody>\n",
       "</table>\n",
       "</div>"
      ]
     },
     "execution_count": 59,
     "metadata": {},
     "output_type": "execute_result"
    }
   ],
   "execution_count": 59
  },
  {
   "metadata": {},
   "cell_type": "markdown",
   "source": "Значения метрик без учета дополнительных пользователей.",
   "id": "6f48fa1395ddd300"
  },
  {
   "metadata": {
    "ExecuteTime": {
     "end_time": "2024-08-21T11:36:26.720675Z",
     "start_time": "2024-08-21T11:36:25.679427Z"
    }
   },
   "cell_type": "code",
   "source": [
    "plot_metric(metrics, 'Визуализация метрик без учета дополнительных пользователей')\n",
    "plot_metric(metrics_nw, 'Визуализация метрик с учетом дополнительных пользователей')"
   ],
   "id": "c9aee77de2b4f8f1",
   "outputs": [
    {
     "data": {
      "text/plain": [
       "<Figure size 1500x500 with 3 Axes>"
      ],
      "image/png": "[encoded data removed]"
     },
     "metadata": {},
     "output_type": "display_data"
    },
    {
     "data": {
      "text/plain": [
       "<Figure size 1500x500 with 3 Axes>"
      ],
      "image/png": "[encoded data removed]"
     },
     "metadata": {},
     "output_type": "display_data"
    }
   ],
   "execution_count": 76
  },
  {
   "metadata": {},
   "cell_type": "markdown",
   "source": "Добавление 92 пользователей к общей выборке из 74,448 человек не оказало значительного влияния на ключевые метрики. Это может быть объяснено тем, что новые пользователи составляют менее 0.13% от общего числа, что недостаточно для значительных изменений в результатах. Поскольку статистически значимые различия сохраняются, можно заключить, что результаты эксперимента остаются устойчивыми, а влияние новой механики оплаты уже адекватно отражено в данных. Однако, есть вероятность, что добавленные пользователи не относятся к целевому сегменту, чувствительному к новой механике, поскольку у них не было новых оплат, что привело к снижению конверсии.",
   "id": "bf9b8c3e27bc3f6"
  },
  {
   "metadata": {},
   "cell_type": "markdown",
   "source": [
    "# Заключение:\n",
    "Новая механика оплаты показала увеличение среднего дохода на платящего пользователя (ARPPU) и среднего дохода на пользователя (ARPU), при этом снижение конверсии не является статистически значимым. Это указывает на то, что новая система оплаты эффективно увеличивает доходы без значимого отрицательного влияния на конверсию. В целом, новая механика демонстрирует положительные результаты и улучшает финансовые показатели.\n",
    "\n",
    "# Рекомендации:\n",
    "**Запуск:** Рекомендуется запуск новой механики оплаты, поскольку она положительно влияет на финансовые показатели.\n",
    "\n",
    "**Обратный тест:** Поскольку при добавлении новых пользователей было замечено снижение конверсии и отсутствие новых оплат, рекомендуется выделить 1% пользователей, для которых будет сохранена старая механика оплаты, и наблюдать за их поведением в течение более продолжительного времени. Это позволит проверить, сохраняются ли различия в ключевых метриках и как долго проявляется эффект новой механики. Если изменения окажутся значительными, это подтвердит, что новая механика влияет на определённые сегменты пользователей.\n",
    "\n",
    "**Оптимизация:** Полученные данные помогут оптимизировать новую механику оплаты для улучшения пользовательского опыта и достижения лучших результатов."
   ],
   "id": "64b15aaa898b767c"
  }
 ],
 "metadata": {
  "kernelspec": {
   "display_name": "Python 3",
   "language": "python",
   "name": "python3"
  },
  "language_info": {
   "codemirror_mode": {
    "name": "ipython",
    "version": 2
   },
   "file_extension": ".py",
   "mimetype": "text/x-python",
   "name": "python",
   "nbconvert_exporter": "python",
   "pygments_lexer": "ipython2",
   "version": "2.7.6"
  }
 },
 "nbformat": 4,
 "nbformat_minor": 5
}
